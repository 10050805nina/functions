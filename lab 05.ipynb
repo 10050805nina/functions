{
  "metadata": {
    "kernelspec": {
      "name": "python",
      "display_name": "Python (Pyodide)",
      "language": "python"
    },
    "language_info": {
      "codemirror_mode": {
        "name": "python",
        "version": 3
      },
      "file_extension": ".py",
      "mimetype": "text/x-python",
      "name": "python",
      "nbconvert_exporter": "python",
      "pygments_lexer": "ipython3",
      "version": "3.8"
    }
  },
  "nbformat_minor": 5,
  "nbformat": 4,
  "cells": [
    {
      "cell_type": "code",
      "source": "\n# Treat all the following code as being behind an abstraction layer, you shouldn't need to look at it!\n\ndef make_city(name, lat, lon):\n    \"\"\"\n    >>> city = make_city('Berkeley', 0, 1)\n    >>> get_name(city)\n    'Berkeley'\n    >>> get_lat(city)\n    0\n    >>> get_lon(city)\n    1\n    \"\"\"\n    if change_abstraction.changed:\n        return {\"name\" : name, \"lat\" : lat, \"lon\" : lon}\n    else:\n        return [name, lat, lon]\n\ndef get_name(city):\n    \"\"\"\n    >>> city = make_city('Berkeley', 0, 1)\n    >>> get_name(city)\n    'Berkeley'\n    \"\"\"\n    if change_abstraction.changed:\n        return city[\"name\"]\n    else:\n        return city[0]\n\ndef get_lat(city):\n    \"\"\"\n    >>> city = make_city('Berkeley', 0, 1)\n    >>> get_lat(city)\n    0\n    \"\"\"\n    if change_abstraction.changed:\n        return city[\"lat\"]\n    else:\n        return city[1]\n\ndef get_lon(city):\n    \"\"\"\n    >>> city = make_city('Berkeley', 0, 1)\n    >>> get_lon(city)\n    1\n    \"\"\"\n    if change_abstraction.changed:\n        return city[\"lon\"]\n    else:\n        return city[2]\n\ndef change_abstraction(change):\n    change_abstraction.changed = change\n\nchange_abstraction.changed = False\n\n### === +++ CITY ABSTRACTION BARRIER +++ === ###",
      "metadata": {
        "trusted": true
      },
      "execution_count": 30,
      "outputs": [],
      "id": "68b325ff-f7db-4278-8716-04184c410acd"
    },
    {
      "cell_type": "code",
      "source": "from math import sqrt\ndef distance(city_1, city_2):\n    \"\"\"\n    >>> city1 = make_city('city1', 0, 1)\n    >>> city2 = make_city('city2', 0, 2)\n    >>> distance(city1, city2)\n    1.0\n    \"\"\"\n\n    lat_c1 = get_lat(city_1)\n    lat_c2 = get_lat(city_2)\n    lon_c1 = get_lon(city_1)\n    lon_c2 = get_lon(city_2)\n    d = ((lat_c1-lat_c2)**2 + (lon_c1-lon_c2)**2)**0.5\n    return d",
      "metadata": {
        "trusted": true
      },
      "execution_count": 36,
      "outputs": [],
      "id": "0f3fe9d7-dad6-4c75-a3a1-0ed416f13c88"
    },
    {
      "cell_type": "code",
      "source": "def closer_city(lat, lon, city1, city2):\n    \"\"\" Returns the name of either city1 or city2, whichever is closest\n        to coordinate (lat, lon).\n\n        >>> berkeley = make_city('Berkeley', 37.87, 112.26)\n        >>> stanford = make_city('Stanford', 34.05, 118.25)\n        >>> closer_city(38.33, 121.44, berkeley, stanford)\n        'Stanford'\n        >>> bucharest = make_city('Bucharest', 44.43, 26.10)\n        >>> vienna = make_city('Vienna', 48.20, 16.37)\n        >>> closer_city(41.29, 174.78, bucharest, vienna)\n        'Bucharest'\n    \"\"\"\n    city3 = make_city(\"city3\", lat, lon)\n    d_location_city1 = distance(city3, city1)\n    d_location_city2 = distance(city3, city2)\n    dic = {get_name(city1): d_location_city1, get_name(city2): d_location_city2}\n    return [key for key in dic if dic[key] == min([dic[key] for key in dic])][0]",
      "metadata": {
        "trusted": true
      },
      "execution_count": 37,
      "outputs": [],
      "id": "2a9e5b34-55fb-4a9b-9421-8c0df9cf4a67"
    },
    {
      "cell_type": "code",
      "source": "bucharest = make_city('Bucharest', 44.43, 26.10)\nvienna = make_city('Vienna', 48.20, 16.37)\ncloser_city(41.29, 174.78, bucharest, vienna)",
      "metadata": {
        "trusted": true
      },
      "execution_count": 38,
      "outputs": [
        {
          "execution_count": 38,
          "output_type": "execute_result",
          "data": {
            "text/plain": "'Bucharest'"
          },
          "metadata": {}
        }
      ],
      "id": "05965116-0bda-420b-aa86-3f1478b13c2f"
    },
    {
      "cell_type": "code",
      "source": "berkeley = make_city('Berkeley', 37.87, 112.26)\nstanford = make_city('Stanford', 34.05, 118.25)\ncloser_city(38.33, 121.44, berkeley, stanford)",
      "metadata": {
        "trusted": true
      },
      "execution_count": 39,
      "outputs": [
        {
          "execution_count": 39,
          "output_type": "execute_result",
          "data": {
            "text/plain": "'Stanford'"
          },
          "metadata": {}
        }
      ],
      "id": "c03784c9-0fed-4bb0-94cd-c5b2647fd2e2"
    },
    {
      "cell_type": "code",
      "source": "d1 = distance(city3, berkeley)\nd2 = distance(city3, stanford)\nd2",
      "metadata": {
        "trusted": true
      },
      "execution_count": 41,
      "outputs": [
        {
          "execution_count": 41,
          "output_type": "execute_result",
          "data": {
            "text/plain": "5.3380239789645"
          },
          "metadata": {}
        }
      ],
      "id": "c44da176-31a4-4896-9d14-ee092aa32a4f"
    },
    {
      "cell_type": "markdown",
      "source": "## next question: politician\nThe politician ADT has a constructor make_politician. \nThere are three selectors, get_name, get_party, and get_age. \nWhen implementing an ADT, you have the freedom to choose how you want to represent it. \nSome common data structures used to represent ADTs are lists and dictionaries. \nThe city ADT was implemented using a list. \nNow, let's use dictionaries to implement our politician ADT. \nYou must use a dictionary for this question, or else you will not pass the tests.",
      "metadata": {},
      "id": "e061377f-b115-444a-b789-57ac0c4a1435"
    },
    {
      "cell_type": "code",
      "source": "def make_politician(name, party, age):\n    \"\"\"\n    >>> woodrow = make_politician('Woodrow Wilson', 'Democrat', 57)\n    >>> isinstance(woodrow, dict)\n    True\n    \"\"\"\n    # Make sure you use a dictionary in your implementation!\n    politician_info = {\"name\": name, \"party\": party, \"age\": age}\n    return politician_info",
      "metadata": {
        "trusted": true
      },
      "execution_count": 63,
      "outputs": [],
      "id": "ebfe0df0-c0b5-4dbf-bc66-ca0446087817"
    },
    {
      "cell_type": "code",
      "source": "woodrow = make_politician('Woodrow Wilson', 'Democrat', 57)\nisinstance(woodrow, dict)",
      "metadata": {
        "trusted": true
      },
      "execution_count": 64,
      "outputs": [
        {
          "execution_count": 64,
          "output_type": "execute_result",
          "data": {
            "text/plain": "True"
          },
          "metadata": {}
        }
      ],
      "id": "a522b1e2-a820-4c08-afc1-a39db7044462"
    },
    {
      "cell_type": "code",
      "source": "def get_pol_name(politician):\n    \"\"\"\n    >>> woodrow = make_politician('Woodrow Wilson', 'Democrat', 57)\n    >>> get_pol_name(woodrow)\n    'Woodrow Wilson'\n    >>> lincoln = make_politician('Abraham Lincoln', 'Republican', 52)\n    >>> get_pol_name(lincoln)\n    'Abraham Lincoln'\n    \"\"\"\n    return politician['name']",
      "metadata": {
        "trusted": true
      },
      "execution_count": 67,
      "outputs": [],
      "id": "7a03bd5d-d338-49f4-8f73-863c9d7777a9"
    },
    {
      "cell_type": "code",
      "source": "woodrow = make_politician('Woodrow Wilson', 'Democrat', 57)\nwoodrow",
      "metadata": {
        "trusted": true
      },
      "execution_count": 68,
      "outputs": [
        {
          "execution_count": 68,
          "output_type": "execute_result",
          "data": {
            "text/plain": "{'name': 'Woodrow Wilson', 'party': 'Democrat', 'age': 57}"
          },
          "metadata": {}
        }
      ],
      "id": "f442e044-e20e-454a-b545-2ed7002e823f"
    },
    {
      "cell_type": "code",
      "source": "get_pol_name(woodrow)",
      "metadata": {
        "trusted": true
      },
      "execution_count": 69,
      "outputs": [
        {
          "execution_count": 69,
          "output_type": "execute_result",
          "data": {
            "text/plain": "'Woodrow Wilson'"
          },
          "metadata": {}
        }
      ],
      "id": "ffab98c4-70dc-4f82-bdec-c2ef19c3775c"
    },
    {
      "cell_type": "code",
      "source": "def get_party(politician):\n    \"\"\"\n    >>> woodrow = make_politician('Woodrow Wilson', 'Democrat', 57)\n    >>> get_party(woodrow)\n    'Democrat'\n    >>> lincoln = make_politician('Abraham Lincoln', 'Republican', 52)\n    >>> get_party(lincoln)\n    'Republican'\n    \"\"\"\n    return politician['party']",
      "metadata": {
        "trusted": true
      },
      "execution_count": 74,
      "outputs": [],
      "id": "488e20fb-9204-427f-8839-c81df069669d"
    },
    {
      "cell_type": "code",
      "source": "woodrow = make_politician('Woodrow Wilson', 'Democrat', 57)\nget_party(woodrow)",
      "metadata": {
        "trusted": true
      },
      "execution_count": 75,
      "outputs": [
        {
          "execution_count": 75,
          "output_type": "execute_result",
          "data": {
            "text/plain": "'Democrat'"
          },
          "metadata": {}
        }
      ],
      "id": "b30f981f-cce5-453d-9832-1d5ed2af3dbe"
    },
    {
      "cell_type": "code",
      "source": "lincoln = make_politician('Abraham Lincoln', 'Republican', 52)\nget_party(lincoln)",
      "metadata": {
        "trusted": true
      },
      "execution_count": 76,
      "outputs": [
        {
          "execution_count": 76,
          "output_type": "execute_result",
          "data": {
            "text/plain": "'Republican'"
          },
          "metadata": {}
        }
      ],
      "id": "5f32c07b-057e-4c27-b8bc-14e672b15eeb"
    },
    {
      "cell_type": "code",
      "source": "def get_age(politician):\n    \"\"\"\n    >>> woodrow = make_politician('Woodrow Wilson', 'Democrat', 57)\n    >>> get_age(woodrow)\n    57\n    >>> lincoln = make_politician('Abraham Lincoln', 'Republican', 52)\n    >>> get_age(lincoln)\n    52\n    \"\"\"\n    return politician['age']",
      "metadata": {
        "trusted": true
      },
      "execution_count": 77,
      "outputs": [],
      "id": "c8734f17-7638-4c3c-ac38-f87e8b5e0e8a"
    },
    {
      "cell_type": "code",
      "source": "get_age(woodrow)",
      "metadata": {
        "trusted": true
      },
      "execution_count": 78,
      "outputs": [
        {
          "execution_count": 78,
          "output_type": "execute_result",
          "data": {
            "text/plain": "57"
          },
          "metadata": {}
        }
      ],
      "id": "adc74503-cb9c-45e0-8162-336737683c81"
    },
    {
      "cell_type": "code",
      "source": "get_age(lincoln)",
      "metadata": {
        "trusted": true
      },
      "execution_count": 79,
      "outputs": [
        {
          "execution_count": 79,
          "output_type": "execute_result",
          "data": {
            "text/plain": "52"
          },
          "metadata": {}
        }
      ],
      "id": "766296a2-ce1c-4cc6-bffa-e996e9a228bb"
    },
    {
      "cell_type": "code",
      "source": "def make_politician(name, party, age):\n    \"\"\"\n    >>> woodrow = make_politician('Woodrow Wilson', 'Democrat', 57)\n    >>> isinstance(woodrow, dict)\n    True\n    \"\"\"\n    # Make sure you use a dictionary in your implementation!\n    politician_info = {\"name\": name, \"party\": party, \"age\": age}\n    return politician_info\n    \n\ndef get_pol_name(politician):\n    \"\"\"\n    >>> woodrow = make_politician('Woodrow Wilson', 'Democrat', 57)\n    >>> get_pol_name(woodrow)\n    'Woodrow Wilson'\n    >>> lincoln = make_politician('Abraham Lincoln', 'Republican', 52)\n    >>> get_pol_name(lincoln)\n    'Abraham Lincoln'\n    \"\"\"\n    return politician['name']\n    \n\ndef get_party(politician):\n    \"\"\"\n    >>> woodrow = make_politician('Woodrow Wilson', 'Democrat', 57)\n    >>> get_party(woodrow)\n    'Democrat'\n    >>> lincoln = make_politician('Abraham Lincoln', 'Republican', 52)\n    >>> get_party(lincoln)\n    'Republican'\n    \"\"\"\n    return politician['party']\n    \n\ndef get_age(politician):\n    \"\"\"\n    >>> woodrow = make_politician('Woodrow Wilson', 'Democrat', 57)\n    >>> get_age(woodrow)\n    57\n    >>> lincoln = make_politician('Abraham Lincoln', 'Republican', 52)\n    >>> get_age(lincoln)\n    52\n    \"\"\"\n    return politician['age']",
      "metadata": {
        "trusted": true
      },
      "execution_count": 80,
      "outputs": [],
      "id": "46545124-159e-4d1f-befd-7983bda70e31"
    },
    {
      "cell_type": "code",
      "source": "",
      "metadata": {},
      "execution_count": null,
      "outputs": [],
      "id": "bbd6288d-4d72-4a29-95fe-6c9d153a4dc5"
    }
  ]
}