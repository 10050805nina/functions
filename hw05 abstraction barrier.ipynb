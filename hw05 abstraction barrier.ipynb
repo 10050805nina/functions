{
  "metadata": {
    "kernelspec": {
      "name": "python",
      "display_name": "Python (Pyodide)",
      "language": "python"
    },
    "language_info": {
      "codemirror_mode": {
        "name": "python",
        "version": 3
      },
      "file_extension": ".py",
      "mimetype": "text/x-python",
      "name": "python",
      "nbconvert_exporter": "python",
      "pygments_lexer": "ipython3",
      "version": "3.8"
    }
  },
  "nbformat_minor": 5,
  "nbformat": 4,
  "cells": [
    {
      "cell_type": "code",
      "source": "# Diner ADT\ndef make_diner(name):\n    \"\"\" Diners are represented by their name and the number of free tables they have.\"\"\"\n    return [name, 0]\n\ndef num_free_tables(diner):\n    return diner[1]\n\ndef name(diner):\n    return diner[0]\n# You will implement add_table and serve which are part of the Diner ADT\n# Group ADT\ndef make_group(name):\n    \"\"\" Groups are represented by their name and their status.\"\"\"\n    return [name, 'waiting']\n\ndef name(group):\n    return group[0]\n\ndef status(group):\n    return group[1]\n\ndef start_eating(group, diner):\n    group[1] = 'eating'\n\n# You will implement finish_eating which is part of the Group ADT  \n",
      "metadata": {
        "trusted": true
      },
      "execution_count": 1,
      "outputs": [],
      "id": "8938a269-9318-4915-b27d-54aa35df1667"
    },
    {
      "cell_type": "code",
      "source": "def add_table(diner):\n    \"\"\"\n    >>> din = make_diner(\"Croads\")\n    >>> num_free_tables(din)\n    0\n    >>> add_table(din)\n    >>> add_table(din)\n    >>> num_free_tables(din)\n    2\n    \"\"\"\n    diner[1]+=1",
      "metadata": {
        "trusted": true
      },
      "execution_count": 22,
      "outputs": [],
      "id": "53de1d18-b7cc-411b-9b3c-5deea3b6b814"
    },
    {
      "cell_type": "code",
      "source": "din = make_diner(\"Croads\")\nnum_free_tables(din)",
      "metadata": {
        "trusted": true
      },
      "execution_count": 23,
      "outputs": [
        {
          "execution_count": 23,
          "output_type": "execute_result",
          "data": {
            "text/plain": "0"
          },
          "metadata": {}
        }
      ],
      "id": "c60ff572-60c7-4654-a7a2-430ea094878a"
    },
    {
      "cell_type": "code",
      "source": "add_table(din)",
      "metadata": {
        "trusted": true
      },
      "execution_count": 24,
      "outputs": [],
      "id": "5bb55b61-7a2e-457c-b431-970d3b6f5669"
    },
    {
      "cell_type": "code",
      "source": "add_table(din)",
      "metadata": {
        "trusted": true
      },
      "execution_count": 25,
      "outputs": [],
      "id": "09cff24c-551e-4fb6-92ce-6b87605d2136"
    },
    {
      "cell_type": "code",
      "source": "num_free_tables(din)",
      "metadata": {
        "trusted": true
      },
      "execution_count": 26,
      "outputs": [
        {
          "execution_count": 26,
          "output_type": "execute_result",
          "data": {
            "text/plain": "2"
          },
          "metadata": {}
        }
      ],
      "id": "2b5a3682-158b-410e-8d91-a61c9f43b67b"
    },
    {
      "cell_type": "code",
      "source": "##SERVE##\n#Implement *serve* so that the diner uses one of its free tables to seat the group. \n#If there are no free tables, return the string 'table not free'. \n#If there are free tables, the group's status should be updated to 'eating' \n#and the diner should have one less free table. \n#serve is part of the Diner ADT.\n\n# Diner ADT\ndef make_diner(name):\n    \"\"\" Diners are represented by their name and the number of free tables they have.\"\"\"\n    return [name, 0]\n\ndef num_free_tables(diner):\n    return diner[1]\n\ndef name(diner):\n    return diner[0]\n\n\ndef serve(diner, group):\n    \"\"\"\n    >>> din = make_diner(\"Cafe 3\")\n    >>> add_table(din)\n    >>> g1 = make_group(\"Vandana's Group\")\n    >>> g2 = make_group(\"Shreya's Group\")\n    >>> serve(din, g1)\n    >>> status(g1)\n    'eating'\n    >>> num_free_tables(din)\n    0\n    >>> serve(din, g2)\n    'table not free'\n    >>> status(g2)\n    'waiting'\n    \"\"\"\n    if diner[1] == 0:\n        return \"table not free\"\n    else:\n        diner[1]-=1\n        start_eating(group, diner)",
      "metadata": {
        "trusted": true
      },
      "execution_count": 27,
      "outputs": [],
      "id": "813d9143-77b2-43c0-9193-f136a6631569"
    },
    {
      "cell_type": "code",
      "source": "din = make_diner(\"Cafe 3\")\nadd_table(din)\ng1 = make_group(\"Vandana's Group\")\ng2 = make_group(\"Shreya's Group\")\nserve(din, g1)\nstatus(g1)",
      "metadata": {
        "trusted": true
      },
      "execution_count": 28,
      "outputs": [
        {
          "execution_count": 28,
          "output_type": "execute_result",
          "data": {
            "text/plain": "'eating'"
          },
          "metadata": {}
        }
      ],
      "id": "eeb79c0b-f294-4c76-b2f0-fdd7ac903133"
    },
    {
      "cell_type": "code",
      "source": "num_free_tables(din)",
      "metadata": {
        "trusted": true
      },
      "execution_count": 29,
      "outputs": [
        {
          "execution_count": 29,
          "output_type": "execute_result",
          "data": {
            "text/plain": "0"
          },
          "metadata": {}
        }
      ],
      "id": "1abbe4b2-13f7-4d28-94a6-e865a17a6cea"
    },
    {
      "cell_type": "code",
      "source": "serve(din, g2)",
      "metadata": {
        "trusted": true
      },
      "execution_count": 30,
      "outputs": [
        {
          "execution_count": 30,
          "output_type": "execute_result",
          "data": {
            "text/plain": "'table not free'"
          },
          "metadata": {}
        }
      ],
      "id": "48840e9b-1a9f-46f4-a3e5-7b7848437ee9"
    },
    {
      "cell_type": "code",
      "source": "status(g2)",
      "metadata": {
        "trusted": true
      },
      "execution_count": 31,
      "outputs": [
        {
          "execution_count": 31,
          "output_type": "execute_result",
          "data": {
            "text/plain": "'waiting'"
          },
          "metadata": {}
        }
      ],
      "id": "670b8e1f-f9d0-40ea-b109-6a28a0dced48"
    },
    {
      "cell_type": "markdown",
      "source": "Implement finish_eating which sets a group's status to 'finished' and frees the table they were using so that the diner has one more free table. \nIf the group's status is already 'finished', this function should do nothing. \nfinish_eating is part of the Group ADT.",
      "metadata": {},
      "id": "6e3b8696-319c-48d9-bc14-433d93a57856"
    },
    {
      "cell_type": "code",
      "source": "def finish_eating(group, diner):\n    \"\"\"\n    >>> din = make_diner(\"Foothill\")\n    >>> add_table(din)\n    >>> g1 = make_group(\"Nick's Group\")\n    >>> serve(din, g1)\n    >>> num_free_tables(din)\n    0\n    >>> finish_eating(g1, din)\n    >>> num_free_tables(din)\n    1\n    >>> status(g1)\n    'finished'\n    >>> finish_eating(g1, din) # g1 has already finished eating so this should do nothing\n    >>> num_free_tables(din)\n    1\n    >>> status(g1)\n    'finished'\n    \"\"\"\n    if group[1] == \"finished\":\n        return \n    else:\n        diner[1]+=1\n        group[1] = \"finished\"",
      "metadata": {
        "trusted": true
      },
      "execution_count": 38,
      "outputs": [],
      "id": "d1db5448-08a0-496e-b74d-30156bcf4546"
    },
    {
      "cell_type": "code",
      "source": "din = make_diner(\"Foothill\")\nadd_table(din)\ng1 = make_group(\"Nick's Group\")\nserve(din, g1)\nnum_free_tables(din)",
      "metadata": {
        "trusted": true
      },
      "execution_count": 39,
      "outputs": [
        {
          "execution_count": 39,
          "output_type": "execute_result",
          "data": {
            "text/plain": "0"
          },
          "metadata": {}
        }
      ],
      "id": "4c639e39-6334-4f84-ba8f-6d6814c21bed"
    },
    {
      "cell_type": "code",
      "source": "finish_eating(g1, din)",
      "metadata": {
        "trusted": true
      },
      "execution_count": 40,
      "outputs": [],
      "id": "3a0c6a9c-9180-45e1-8a68-3081f4cc7261"
    },
    {
      "cell_type": "code",
      "source": "num_free_tables(din)",
      "metadata": {
        "trusted": true
      },
      "execution_count": 41,
      "outputs": [
        {
          "execution_count": 41,
          "output_type": "execute_result",
          "data": {
            "text/plain": "1"
          },
          "metadata": {}
        }
      ],
      "id": "3f81b484-d687-4878-bff1-ef16fcc02349"
    },
    {
      "cell_type": "code",
      "source": "status(g1)",
      "metadata": {
        "trusted": true
      },
      "execution_count": 42,
      "outputs": [
        {
          "execution_count": 42,
          "output_type": "execute_result",
          "data": {
            "text/plain": "'finished'"
          },
          "metadata": {}
        }
      ],
      "id": "2975e6d8-bfa0-47be-a057-b86e795c5327"
    },
    {
      "cell_type": "code",
      "source": "finish_eating(g1, din)",
      "metadata": {
        "trusted": true
      },
      "execution_count": 43,
      "outputs": [],
      "id": "ec8303a0-3f5b-476b-9295-6c9ea416adf1"
    },
    {
      "cell_type": "code",
      "source": "num_free_tables(din)",
      "metadata": {
        "trusted": true
      },
      "execution_count": 44,
      "outputs": [
        {
          "execution_count": 44,
          "output_type": "execute_result",
          "data": {
            "text/plain": "1"
          },
          "metadata": {}
        }
      ],
      "id": "bcd90419-3479-432e-8f73-b134b0247b8e"
    },
    {
      "cell_type": "code",
      "source": "status(g1)",
      "metadata": {
        "trusted": true
      },
      "execution_count": 45,
      "outputs": [
        {
          "execution_count": 45,
          "output_type": "execute_result",
          "data": {
            "text/plain": "'finished'"
          },
          "metadata": {}
        }
      ],
      "id": "dd0d0c7f-4491-40e7-ba40-0a111ad38ea9"
    },
    {
      "cell_type": "markdown",
      "source": "Question 4: MLB All Star\nThe dictionaries mapping players to their team and statistics respectively have been created already. However, instead of accessing these values directly, we'll be implementing **two functions** to *retrieve* the appropriate values as a layer of ***abstraction***.\nImplement the *get_team* and *get_stats* functions to retrieve the team or statistics **given a player's name**.",
      "metadata": {},
      "id": "88352591-0f4d-4fd7-a272-c860b9d8a664"
    },
    {
      "cell_type": "code",
      "source": "full_roster = {\n    \"Manny Machado\" : \"Dodgers\",\n    \"Yasiel Puig\" : \"Dodgers\",\n    \"Aaron Judge\" : \"Yankees\",\n    \"Clayton Kershaw\" : \"Dodgers\",\n    \"Giancarlo Stanton\" : \"Yankees\"\n}\n\nfull_stats = {\n    \"Manny Machado\": [\"SO\", \"1B\", \"3B\", \"SO\", \"HR\"],\n    \"Yasiel Puig\": [\"3B\", \"3B\", \"1B\", \"1B\", \"SO\"],\n    \"Aaron Judge\": [\"SO\", \"HR\", \"HR\", \"1B\", \"SO\"],\n    \"Clayton Kershaw\": [\"1B\", \"SO\", \"SO\", \"1B\", \"SO\"],\n    \"Giancarlo Stanton\": [\"HR\", \"SO\", \"3B\", \"SO\", \"2B\"],\n}",
      "metadata": {
        "trusted": true
      },
      "execution_count": 46,
      "outputs": [],
      "id": "bcd01bde-1059-4f0a-bf4a-6317abd889cd"
    },
    {
      "cell_type": "code",
      "source": "def get_stats(player):\n    \"\"\"Returns the statistics associated with the provided player.\n    >>> get_stats(\"Manny Machado\")\n    ['SO', '1B', '3B', 'SO', 'HR']\n    >>> get_stats('Aaron Judge')\n    ['SO', 'HR', 'HR', '1B', 'SO']\n    \"\"\"\n    return full_stats[player]",
      "metadata": {
        "trusted": true
      },
      "execution_count": 63,
      "outputs": [],
      "id": "1454b864-6a26-459c-99ce-c071c728b44f"
    },
    {
      "cell_type": "code",
      "source": "get_stats(\"Manny Machado\")",
      "metadata": {
        "trusted": true
      },
      "execution_count": 64,
      "outputs": [
        {
          "execution_count": 64,
          "output_type": "execute_result",
          "data": {
            "text/plain": "['SO', '1B', '3B', 'SO', 'HR']"
          },
          "metadata": {}
        }
      ],
      "id": "77b0e373-4d7a-4aa7-8179-bd05ccc2fad2"
    },
    {
      "cell_type": "code",
      "source": "get_stats('Aaron Judge')",
      "metadata": {
        "trusted": true
      },
      "execution_count": 65,
      "outputs": [
        {
          "execution_count": 65,
          "output_type": "execute_result",
          "data": {
            "text/plain": "['SO', 'HR', 'HR', '1B', 'SO']"
          },
          "metadata": {}
        }
      ],
      "id": "c78c0fb9-27c6-4458-aeb4-e01549f8e1af"
    },
    {
      "cell_type": "code",
      "source": "def get_team(player):\n    \"\"\"Returns team that the provided player is a member of.\n\n    >>> get_team(\"Manny Machado\")\n    'Dodgers'\n    >>> get_team(\"Aaron Judge\")\n    'Yankees'\n    \"\"\"\n    return [full_roster[key] for key in full_roster.keys() if key==player][0]",
      "metadata": {
        "trusted": true
      },
      "execution_count": 59,
      "outputs": [],
      "id": "6bfb948a-a94f-4bff-9114-f14f69da6fc6"
    },
    {
      "cell_type": "code",
      "source": "full_roster.keys()",
      "metadata": {
        "trusted": true
      },
      "execution_count": 60,
      "outputs": [
        {
          "execution_count": 60,
          "output_type": "execute_result",
          "data": {
            "text/plain": "dict_keys(['Manny Machado', 'Yasiel Puig', 'Aaron Judge', 'Clayton Kershaw', 'Giancarlo Stanton'])"
          },
          "metadata": {}
        }
      ],
      "id": "e09f4889-757d-4d3b-a08e-163a443d8a49"
    },
    {
      "cell_type": "code",
      "source": "get_team(\"Manny Machado\")",
      "metadata": {
        "trusted": true
      },
      "execution_count": 61,
      "outputs": [
        {
          "execution_count": 61,
          "output_type": "execute_result",
          "data": {
            "text/plain": "'Dodgers'"
          },
          "metadata": {}
        }
      ],
      "id": "a9d8fed4-ae57-444d-b2b7-0e52918bf4ea"
    },
    {
      "cell_type": "code",
      "source": "get_team(\"Aaron Judge\")",
      "metadata": {
        "trusted": true
      },
      "execution_count": 62,
      "outputs": [
        {
          "execution_count": 62,
          "output_type": "execute_result",
          "data": {
            "text/plain": "'Yankees'"
          },
          "metadata": {}
        }
      ],
      "id": "0a2bbe1e-9bc2-4c3d-8f1d-e6390050fd54"
    },
    {
      "cell_type": "code",
      "source": "",
      "metadata": {},
      "execution_count": null,
      "outputs": [],
      "id": "f23cc1bc-08ab-47fb-98f6-fd9805a16e8c"
    }
  ]
}