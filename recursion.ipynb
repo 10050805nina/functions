{
  "metadata": {
    "kernelspec": {
      "name": "python",
      "display_name": "Python (Pyodide)",
      "language": "python"
    },
    "language_info": {
      "codemirror_mode": {
        "name": "python",
        "version": 3
      },
      "file_extension": ".py",
      "mimetype": "text/x-python",
      "name": "python",
      "nbconvert_exporter": "python",
      "pygments_lexer": "ipython3",
      "version": "3.8"
    }
  },
  "nbformat_minor": 5,
  "nbformat": 4,
  "cells": [
    {
      "cell_type": "markdown",
      "source": "Question 1: Reduce\nWrite the recursive version of the function reduce which takes\n\nreducer - a two-argument function that reduces elements to a single value; s - a sequence of values; base - the starting value in the reduction. This is usually the identity of the reducer",
      "metadata": {},
      "id": "ada9d4c3-4de5-49b9-9450-c32dcc4b2f6b"
    },
    {
      "cell_type": "code",
      "source": "from operator import add, mul\n\ndef reduce(reducer, seq, base):\n    \"\"\"Reduce a sequence under a two-argument function starting from a base value.\n\n    >>> def add(x, y):\n    ...     return x + y\n    >>> def mul(x, y):\n    ...     return x*y\n    >>> reduce(add, [1,2,3,4], 0)\n    10\n    >>> reduce(mul, [1,2,3,4], 0)\n    0\n    >>> reduce(mul, [1,2,3,4], 1)\n    24\n    \"\"\"\n    result = base\n    for element in seq:\n        result = reducer(result, element)\n    return result",
      "metadata": {
        "trusted": true
      },
      "execution_count": 1,
      "outputs": [],
      "id": "b62ca8c4-359e-4ed5-9a9f-786ed198b335"
    },
    {
      "cell_type": "code",
      "source": "def add(x, y):\n    return x + y\ndef mul(x, y):\n    return x*y\nreduce(add, [1,2,3,4], 0)",
      "metadata": {
        "trusted": true
      },
      "execution_count": 2,
      "outputs": [
        {
          "execution_count": 2,
          "output_type": "execute_result",
          "data": {
            "text/plain": "10"
          },
          "metadata": {}
        }
      ],
      "id": "3953a8bb-cab8-463a-949a-b3dc1c8db98f"
    },
    {
      "cell_type": "code",
      "source": " reduce(mul, [1,2,3,4], 0)",
      "metadata": {
        "trusted": true
      },
      "execution_count": 3,
      "outputs": [
        {
          "execution_count": 3,
          "output_type": "execute_result",
          "data": {
            "text/plain": "0"
          },
          "metadata": {}
        }
      ],
      "id": "e367c56f-f133-4a08-8898-916d181d4d28"
    },
    {
      "cell_type": "code",
      "source": "reduce(mul, [1,2,3,4], 1)",
      "metadata": {
        "trusted": true
      },
      "execution_count": 4,
      "outputs": [
        {
          "execution_count": 4,
          "output_type": "execute_result",
          "data": {
            "text/plain": "24"
          },
          "metadata": {}
        }
      ],
      "id": "f5140ecb-6009-4831-b5fa-db5d43184d7a"
    },
    {
      "cell_type": "markdown",
      "source": "Question 2: Remove Last from Sequence\nComplete the recursive function remove_last which creates a new list identical to the input list s but with the last element in the sequence that is equal to x removed.",
      "metadata": {},
      "id": "7ef6c296-980b-4411-8d2d-b99d5eb67f08"
    },
    {
      "cell_type": "code",
      "source": "def remove_last(x, s):\n    \"\"\"Create a new list that is identical to s but with the last\n    element from the list that is equal to x removed.\n\n    >>> remove_last(1,[])\n    []\n    >>> remove_last(1,[1])\n    []\n    >>> remove_last(1,[1,1])\n    [1]\n    >>> remove_last(1,[2,1])\n    [2]\n    >>> remove_last(1,[3,1,2])\n    [3, 2]\n    >>> remove_last(1,[3,1,2,1])\n    [3, 1, 2]\n    >>> remove_last(5, [3, 5, 2, 5, 11])\n    [3, 5, 2, 11]\n    \"\"\"\n    s_reverse  = s[::-1]\n    for i in s_reverse:\n        already_removed = False\n        if x == i and not already_removed:\n            s_reverse.remove(i)\n            already_removed = True\n            break\n        else:\n            ()\n    return s_reverse[::-1]\n        ",
      "metadata": {
        "trusted": true
      },
      "execution_count": 23,
      "outputs": [],
      "id": "4201e7ef-2701-41c9-87d4-5a5cd7abb8f3"
    },
    {
      "cell_type": "markdown",
      "source": "test doctest#",
      "metadata": {},
      "id": "58f18876-f403-4113-aa04-f17389f44c3c"
    },
    {
      "cell_type": "code",
      "source": "remove_last(1,[])",
      "metadata": {
        "trusted": true
      },
      "execution_count": 15,
      "outputs": [
        {
          "execution_count": 15,
          "output_type": "execute_result",
          "data": {
            "text/plain": "[]"
          },
          "metadata": {}
        }
      ],
      "id": "e82fe96a-b7ab-418b-82ec-58c51dd8f5e3"
    },
    {
      "cell_type": "code",
      "source": "remove_last(1,[1])",
      "metadata": {
        "trusted": true
      },
      "execution_count": 16,
      "outputs": [
        {
          "execution_count": 16,
          "output_type": "execute_result",
          "data": {
            "text/plain": "[]"
          },
          "metadata": {}
        }
      ],
      "id": "9bb9adf2-1f62-4de3-ab63-ea363cb897d1"
    },
    {
      "cell_type": "code",
      "source": "remove_last(1,[1,1])",
      "metadata": {
        "trusted": true
      },
      "execution_count": 19,
      "outputs": [
        {
          "execution_count": 19,
          "output_type": "execute_result",
          "data": {
            "text/plain": "[1]"
          },
          "metadata": {}
        }
      ],
      "id": "6e198d6a-22ec-4ce8-b0f4-4bbfb34ac15c"
    },
    {
      "cell_type": "code",
      "source": "remove_last(1,[2,1])",
      "metadata": {
        "trusted": true
      },
      "execution_count": 20,
      "outputs": [
        {
          "execution_count": 20,
          "output_type": "execute_result",
          "data": {
            "text/plain": "[2]"
          },
          "metadata": {}
        }
      ],
      "id": "0af85c61-682a-422a-83c6-ce0dde5479f8"
    },
    {
      "cell_type": "code",
      "source": "remove_last(1,[3,1,2])",
      "metadata": {
        "trusted": true
      },
      "execution_count": 21,
      "outputs": [
        {
          "execution_count": 21,
          "output_type": "execute_result",
          "data": {
            "text/plain": "[3, 2]"
          },
          "metadata": {}
        }
      ],
      "id": "1202771f-3f35-46ee-882a-ceed678cba1d"
    },
    {
      "cell_type": "code",
      "source": "remove_last(1,[3,1,2,1])",
      "metadata": {
        "trusted": true
      },
      "execution_count": 24,
      "outputs": [
        {
          "execution_count": 24,
          "output_type": "execute_result",
          "data": {
            "text/plain": "[3, 1, 2]"
          },
          "metadata": {}
        }
      ],
      "id": "e523fbfd-d9c5-4ced-b1eb-d068df7b6dac"
    },
    {
      "cell_type": "code",
      "source": " remove_last(5, [3, 5, 2, 5, 11])",
      "metadata": {
        "trusted": true
      },
      "execution_count": 25,
      "outputs": [
        {
          "execution_count": 25,
          "output_type": "execute_result",
          "data": {
            "text/plain": "[3, 5, 2, 11]"
          },
          "metadata": {}
        }
      ],
      "id": "e8c95a6a-b5ac-48e0-b77a-952f1cef09e2"
    },
    {
      "cell_type": "code",
      "source": "s= [3,1,2,5]",
      "metadata": {
        "trusted": true
      },
      "execution_count": 12,
      "outputs": [],
      "id": "84c00e5b-b9cd-4436-99bd-48bad317cdbf"
    },
    {
      "cell_type": "code",
      "source": "s[::-1]",
      "metadata": {
        "trusted": true
      },
      "execution_count": 13,
      "outputs": [
        {
          "execution_count": 13,
          "output_type": "execute_result",
          "data": {
            "text/plain": "[5, 2, 1, 3]"
          },
          "metadata": {}
        }
      ],
      "id": "46ca2102-540b-47a1-b24d-3ccca0450f40"
    },
    {
      "cell_type": "code",
      "source": "#pass all doctest#",
      "metadata": {
        "trusted": true
      },
      "execution_count": 26,
      "outputs": [],
      "id": "ee7e08fa-f3ea-46ea-a9eb-ebbf2937d41f"
    },
    {
      "cell_type": "markdown",
      "source": "Question 3: Binary\nA decimal, or base 10, number is a number expressed in the everyday format that we are all used to. We can also express numbers with the binary system, which expresses numbers in powers of 2.\n\nFor example, 8 (base 10 number) translates to ‘1000’ (binary number).\n",
      "metadata": {},
      "id": "81c8a84a-027b-4545-a487-3cbc2f9dc7bc"
    },
    {
      "cell_type": "markdown",
      "source": "‘1’ or ‘0’ indicates whether the value that it represents is included in the base 10 value. 8 can just be represented with 23, so we represent this with a ‘1’ in that corresponding placement and ‘0’ for other powers of 2.\nAs another example, 5 would translate to ‘101’.",
      "metadata": {},
      "id": "1b9e9c80-ff64-46ba-9a08-e14e35ef9f13"
    },
    {
      "cell_type": "markdown",
      "source": "For numbers that are not powers of 2, like 5, we represent them with several powers of 2. We use 22 and 20 for 5.\n\nNotice that we always start with the power of 0 at the right.\n\nNow that you know how to read binary numbers, let’s try to implement binary. Write the recursive function binary which takes in n, a base 10 number, and returns a list representing the representation of the number in base 2.",
      "metadata": {},
      "id": "3215f30f-4820-4d61-b9d8-5a3558d69919"
    },
    {
      "cell_type": "code",
      "source": "def binary(n):\n    \"\"\"Return a list representing the representation of a number in base 2.\n\n    >>> binary(55055)\n    [1, 1, 0, 1, 0, 1, 1, 1, 0, 0, 0, 0, 1, 1, 1, 1]\n    >>> binary(-136)\n    ['-', 1, 0, 0, 0, 1, 0, 0, 0]\n    \"\"\"\n    result = []\n    number = n\n    if n < 0:\n        number = -n\n        while number >= 1:\n            if number % 2 == 0:\n                result.append(number%2)\n                number = number // 2 \n            else:\n                result.append(number%2)\n                number = number // 2\n        result.append('-')\n    elif number > 0:\n        while number >= 1:\n            if number % 2 == 0:\n                result.append(number%2)\n                number = number // 2 \n            else:\n                result.append(number%2)\n                number = number // 2\n    return result[::-1]\n",
      "metadata": {
        "trusted": true
      },
      "execution_count": 70,
      "outputs": [],
      "id": "86ce656e-ef5d-445c-837f-e682240caa6c"
    },
    {
      "cell_type": "code",
      "source": "binary(145)",
      "metadata": {
        "trusted": true
      },
      "execution_count": 71,
      "outputs": [
        {
          "execution_count": 71,
          "output_type": "execute_result",
          "data": {
            "text/plain": "[1, 0, 0, 1, 0, 0, 0, 1]"
          },
          "metadata": {}
        }
      ],
      "id": "20795649-e62d-4cf4-a7f6-7a691c601207"
    },
    {
      "cell_type": "code",
      "source": "binary(55055)",
      "metadata": {
        "trusted": true
      },
      "execution_count": 72,
      "outputs": [
        {
          "execution_count": 72,
          "output_type": "execute_result",
          "data": {
            "text/plain": "[1, 1, 0, 1, 0, 1, 1, 1, 0, 0, 0, 0, 1, 1, 1, 1]"
          },
          "metadata": {}
        }
      ],
      "id": "f3873e16-bc38-42a0-a885-df36b05a0ae7"
    },
    {
      "cell_type": "code",
      "source": "#    [1, 1, 0, 1, 0, 1, 1, 1, 0, 0, 0, 0, 1, 1, 1, 1]",
      "metadata": {
        "trusted": true
      },
      "execution_count": 73,
      "outputs": [],
      "id": "8104df22-bdef-493c-8c38-b2f7efc2c978"
    },
    {
      "cell_type": "code",
      "source": "binary(-136)",
      "metadata": {
        "trusted": true
      },
      "execution_count": 74,
      "outputs": [
        {
          "execution_count": 74,
          "output_type": "execute_result",
          "data": {
            "text/plain": "['-', 1, 0, 0, 0, 1, 0, 0, 0]"
          },
          "metadata": {}
        }
      ],
      "id": "3c64d6ee-52bd-4630-b2a1-25409935e0fc"
    },
    {
      "cell_type": "markdown",
      "source": "Question 4: Hailstone",
      "metadata": {},
      "id": "1d9fa761-da16-46ab-95c7-8e78a8bc3ecc"
    },
    {
      "cell_type": "markdown",
      "source": "For the hailstone function from previously, you pick a positive integer n as the start. If n is even, divide it by 2. If n is odd, multiply it by 3 and add 1. Repeat this process until n is 1. Write a recursive version of hailstone that prints out the values of the sequence and returns the number of steps.",
      "metadata": {},
      "id": "bc9792d0-2553-4ca7-84ad-73e40f66e8a7"
    },
    {
      "cell_type": "code",
      "source": "def hailstone_iterative(n):\n    \"\"\"Print out the hailstone sequence starting at n, and return the\n    number of elements in the sequence.\n\n    >>> a = hailstone_iterative(10)\n    10\n    5\n    16\n    8\n    4\n    2\n    1\n    >>> a\n    7\n    \"\"\"\n    result = n\n    step = 1\n    while result > 1:\n        print(round(result))\n        if result %2 == 0:\n            result = result / 2\n            step += 1\n        else:\n            result = result * 3 +1\n            step +=1\n    print(round(result))\n    return step",
      "metadata": {
        "trusted": true
      },
      "execution_count": 7,
      "outputs": [],
      "id": "c36663ad-0a50-484c-a61c-d8dba4177105"
    },
    {
      "cell_type": "code",
      "source": "hailstone_iterative(10)",
      "metadata": {
        "trusted": true
      },
      "execution_count": 8,
      "outputs": [
        {
          "name": "stdout",
          "text": "10\n5\n16\n8\n4\n2\n1\n",
          "output_type": "stream"
        },
        {
          "execution_count": 8,
          "output_type": "execute_result",
          "data": {
            "text/plain": "7"
          },
          "metadata": {}
        }
      ],
      "id": "7b521772-5464-4c15-9a39-d9bd5d32392f"
    },
    {
      "cell_type": "code",
      "source": "def hailstone_recursive(n):\n    \"\"\"Print out the hailstone sequence starting at n, and return the\n    number of elements in the sequence.\n\n    >>> a = hailstone_recursive(10)\n    10\n    5\n    16\n    8\n    4\n    2\n    1\n    >>> a\n    7\n    \"\"\"\n    element = 0\n    print(n) \n    if n==1: \n        return 1\n        element += 1 \n    elif n%2==0: \n        return 1+ hailstone_recursive(n//2)\n        element += 1  \n    else:\n        return 1 + hailstone_recursive(3*n+1)\n        element += 1\n    return element",
      "metadata": {
        "trusted": true
      },
      "execution_count": 11,
      "outputs": [],
      "id": "d82ef10b-45ef-4b44-bc91-ab442d80b5ce"
    },
    {
      "cell_type": "code",
      "source": " hailstone_recursive(10)",
      "metadata": {
        "trusted": true
      },
      "execution_count": 12,
      "outputs": [
        {
          "name": "stdout",
          "text": "10\n5\n16\n8\n4\n2\n1\n",
          "output_type": "stream"
        },
        {
          "execution_count": 12,
          "output_type": "execute_result",
          "data": {
            "text/plain": "7"
          },
          "metadata": {}
        }
      ],
      "id": "cafe184d-7746-4418-a362-54614ad3f3ab"
    },
    {
      "cell_type": "markdown",
      "source": "Question 5: Count Change\nA set of coins makes change for n if the sum of the values of the coins is n. For example, if you have 1-cent, 2-cent and 4-cent coins, the following sets make change for 7:\n\n7 1-cent coins\n5 1-cent, 1 2-cent coins\n3 1-cent, 2 2-cent coins\n3 1-cent, 1 4-cent coins\n1 1-cent, 3 2-cent coins\n1 1-cent, 1 2-cent, 1 4-cent coins\nThus, there are 6 ways to make change for 7. Write a function count_change that takes a positive integer n and a list of the coin denominations and returns the number of ways to make change for n using these coins (Hint: You will need to use tree recursion):",
      "metadata": {},
      "id": "df600bbe-9265-4466-9b80-648a28230aa1"
    },
    {
      "cell_type": "code",
      "source": "def count_change(amount, denominations):\n    \"\"\"Returns the number of ways to make change for amount.\n\n    >>> denominations = [50, 25, 10, 5, 1]\n    >>> count_change(7, denominations)\n    2\n    >>> count_change(100, denominations)\n    292\n    >>> denominations = [16, 8, 4, 2, 1]\n    >>> count_change(7, denominations)\n    6\n    >>> count_change(10, denominations)\n    14\n    >>> count_change(20, denominations)\n    60\n    \"\"\"\n    if amount < 0 or len(denominations) == 0: \n        return 0 \n    elif amount == 0: \n        return 1 \n    using_coin = count_change(amount - denominations[0], denominations) \n    not_using_coin = count_change(amount, denominations[1:]) \n    return using_coin + not_using_coin",
      "metadata": {
        "trusted": true
      },
      "execution_count": 16,
      "outputs": [],
      "id": "84b0c184-e94c-4bb5-ba2f-21ac32342d77"
    },
    {
      "cell_type": "code",
      "source": "denominations = [50, 25, 10, 5, 1]\ncount_change(100, denominations)",
      "metadata": {
        "trusted": true
      },
      "execution_count": 17,
      "outputs": [
        {
          "execution_count": 17,
          "output_type": "execute_result",
          "data": {
            "text/plain": "292"
          },
          "metadata": {}
        }
      ],
      "id": "6d9c9582-b94b-4d4e-91da-6e9617df9533"
    },
    {
      "cell_type": "code",
      "source": "",
      "metadata": {},
      "execution_count": null,
      "outputs": [],
      "id": "73ee01c1-ba84-4516-bc33-26b038ef71ff"
    }
  ]
}