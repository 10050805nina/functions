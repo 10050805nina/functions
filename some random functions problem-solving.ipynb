{
  "metadata": {
    "kernelspec": {
      "name": "python",
      "display_name": "Python (Pyodide)",
      "language": "python"
    },
    "language_info": {
      "codemirror_mode": {
        "name": "python",
        "version": 3
      },
      "file_extension": ".py",
      "mimetype": "text/x-python",
      "name": "python",
      "nbconvert_exporter": "python",
      "pygments_lexer": "ipython3",
      "version": "3.8"
    }
  },
  "nbformat_minor": 5,
  "nbformat": 4,
  "cells": [
    {
      "cell_type": "markdown",
      "source": "A group of people sitting in a circle of chairs can be represented as a list of strings. We’ll call this representation\na “chair list” and look at an example of a “chair list” named people\nThere are len(people) total chairs in the circle and they are labeled 0, 1, ..., len(people) - 1 in the\nclockwise direction. The i-th element in the list people is the name of the person in the chair labeled with\ninteger i.\n(a) (2.0 pt) Complete the function shift_right which takes in a “chair list” named people and returns a\nnew “chair list” in which every person moves to the chair directly to their right. The original list people\nshould not be modified.",
      "metadata": {},
      "id": "1026712d-72f9-4541-b92a-b72618581e06"
    },
    {
      "cell_type": "code",
      "source": "def shift_right(people):\n    \"\"\"\n>>> p0 = [\"Bob\", \"Alice\", \"Jane\"]\n>>> p1 = shift_right(p0)\n>>> p0\n['Bob', 'Alice', 'Jane'] # p0 remains unchanged\n>>> p1\n['Jane', 'Bob', 'Alice']\n>>> p2 = shift_right(p1)\n>>> p2\n['Alice', 'Jane', 'Bob']\n\"\"\"",
      "metadata": {
        "trusted": true
      },
      "execution_count": 20,
      "outputs": [],
      "id": "703de2ab-99a2-4915-8ec7-34c8fde4933e"
    },
    {
      "cell_type": "code",
      "source": "people = ['A', 'B', 'C']\np1 = people[::][1:] +  [people[::][0]]\np1",
      "metadata": {
        "trusted": true
      },
      "execution_count": 21,
      "outputs": [
        {
          "execution_count": 21,
          "output_type": "execute_result",
          "data": {
            "text/plain": "['B', 'C', 'A']"
          },
          "metadata": {}
        }
      ],
      "id": "51f02c90-bb3f-4a77-8557-875f21f88a94"
    },
    {
      "cell_type": "code",
      "source": "def shift(list):\n    return list[::][1:] +  [list[::][0]]\np1 = shift(people)\np1",
      "metadata": {
        "trusted": true
      },
      "execution_count": 22,
      "outputs": [
        {
          "execution_count": 22,
          "output_type": "execute_result",
          "data": {
            "text/plain": "['B', 'C', 'A']"
          },
          "metadata": {}
        }
      ],
      "id": "8adfaab9-ac22-487d-89cf-30602849e672"
    },
    {
      "cell_type": "code",
      "source": "p2 = shift(p1)",
      "metadata": {
        "trusted": true
      },
      "execution_count": 23,
      "outputs": [],
      "id": "19c0fb60-37ac-446c-8e50-16813e1969f3"
    },
    {
      "cell_type": "code",
      "source": "p2",
      "metadata": {
        "trusted": true
      },
      "execution_count": 24,
      "outputs": [
        {
          "execution_count": 24,
          "output_type": "execute_result",
          "data": {
            "text/plain": "['C', 'A', 'B']"
          },
          "metadata": {}
        }
      ],
      "id": "f88e2fa3-e1ac-4235-94dd-3808a6f49b99"
    },
    {
      "cell_type": "markdown",
      "source": "Given a list of captain names captains, a list of player names players, and a two argument function\nare_compatible, the form_teams method returns a dictionary of compatible teams, where the key is the team\ncaptain and the value is a list of players on each team.\nCompatibility between captains and players is determined by the are_compatible function, which returns True\nif a captain and a player are compatible and False otherwise. The order in which arguments are passed to this\nfunction does not matter, i.e. are_compatible(p, c) will return the same output as are_compatible(c, p).\nPlayers are added to the first captain they are compatible with. If players cannot be paired with any of the\ncaptains, they become a captain of their own solo team.",
      "metadata": {},
      "id": "fe4514ba-fefa-4115-8653-b0c737492141"
    },
    {
      "cell_type": "code",
      "source": "def form_teams(captains, players, are_compatible):\n    \"\"\"\n>>> same_len = lambda x, y: len(x) == len(y)\n>>> captains = ['bob', 'mary', 'tim']\n>>> players = ['adam', 'kit', 'katie', 'margaret', 'tony', 'dory']\n>>> form_teams(captains, players, same_len)\n{'bob': ['kit'], 'mary': ['adam', 'tony', 'dory'], 'tim': [], 'katie': [], 'margaret': []}\n>>> same_first_or_last_char = lambda x, y: x[0] == y[0] or x[-1] == y[-1]\n>>> form_teams(captains, players, same_first_or_last_char)\n{'bob': [], 'mary': ['margaret', 'tony', 'dory'], 'tim': ['adam'], 'kit': [], 'katie': []}\n\"\"\"",
      "metadata": {
        "trusted": true
      },
      "execution_count": 28,
      "outputs": [],
      "id": "22e72032-b5ea-4387-a8b9-1393c1e8911e"
    },
    {
      "cell_type": "code",
      "source": "teams = {}\nteams [\"c\"] = 15\nteams",
      "metadata": {
        "trusted": true
      },
      "execution_count": 27,
      "outputs": [
        {
          "execution_count": 27,
          "output_type": "execute_result",
          "data": {
            "text/plain": "{'c': 15}"
          },
          "metadata": {}
        }
      ],
      "id": "85e0380a-95e3-4d47-b5ab-a53e2bd8f92c"
    },
    {
      "cell_type": "code",
      "source": "teams [\"c\"] = [15]",
      "metadata": {
        "trusted": true
      },
      "execution_count": 31,
      "outputs": [],
      "id": "0d066f63-cf71-48e4-be8e-def78bebc889"
    },
    {
      "cell_type": "code",
      "source": "teams\n",
      "metadata": {
        "trusted": true
      },
      "execution_count": 32,
      "outputs": [
        {
          "execution_count": 32,
          "output_type": "execute_result",
          "data": {
            "text/plain": "{'c': [15]}"
          },
          "metadata": {}
        }
      ],
      "id": "273bd27a-44bc-45ec-9d72-24b76e7ee50b"
    },
    {
      "cell_type": "code",
      "source": "teams [\"c\"] = []\nteams",
      "metadata": {
        "trusted": true
      },
      "execution_count": 34,
      "outputs": [
        {
          "execution_count": 34,
          "output_type": "execute_result",
          "data": {
            "text/plain": "{'c': []}"
          },
          "metadata": {}
        }
      ],
      "id": "0b150c67-9b28-4d1b-877f-a736dab6c153"
    },
    {
      "cell_type": "code",
      "source": "teams [\"c\"].append(3)",
      "metadata": {
        "trusted": true
      },
      "execution_count": 35,
      "outputs": [],
      "id": "10ab5ca6-917c-4da2-a1d3-9610106c2bce"
    },
    {
      "cell_type": "code",
      "source": "teams[\"c\"]",
      "metadata": {
        "trusted": true
      },
      "execution_count": 36,
      "outputs": [
        {
          "execution_count": 36,
          "output_type": "execute_result",
          "data": {
            "text/plain": "[3]"
          },
          "metadata": {}
        }
      ],
      "id": "cbfbf862-ccca-4652-a51e-a2f1a4cc1fdc"
    },
    {
      "cell_type": "code",
      "source": "teams[\"c\"].append(5)",
      "metadata": {
        "trusted": true
      },
      "execution_count": 37,
      "outputs": [],
      "id": "cf986cc6-fc8b-4349-a77d-651e91cbbcfc"
    },
    {
      "cell_type": "code",
      "source": "teams[\"c\"]",
      "metadata": {
        "trusted": true
      },
      "execution_count": 38,
      "outputs": [
        {
          "execution_count": 38,
          "output_type": "execute_result",
          "data": {
            "text/plain": "[3, 5]"
          },
          "metadata": {}
        }
      ],
      "id": "39b68bab-7dae-4517-92f7-2eb51c2f76d4"
    },
    {
      "cell_type": "markdown",
      "source": "You’ve designed a closet abstract data type to help you organize your wardrobe.\nA closet contains two things:\n• owner: the name of the closet owner represented as a string\n• clothes: the collection of clothes in the closet represented as a dictionary, where the key is the clothing\nitem name and the value is the number of times the clothing item has been worn.\nThe make_closet constructor takes in owner (a string) and clothes (a list of strings representing clothing\nitems) and returns a closet ADT.\nGiven this, you’ve implemented the abstract data type as follows:",
      "metadata": {},
      "id": "d00caa08-9f13-4da0-8185-59f6e12aaf42"
    },
    {
      "cell_type": "code",
      "source": "def make_closet(owner, clothes):\n    \"\"\" Create and returns a new closet. \"\"\"\n    clothes_dict = {}\n    for item in clothes:\n        clothes_dict[item] = 0\n    return (owner, clothes_dict)\ndef get_owner(closet):\n    \"\"\" Returns the owner of the closet \"\"\"\n    return closet[0]\ndef get_clothes(closet):\n    \"\"\" Returns a dictionary of the clothes in the closet \"\"\"\n    return closet[1]",
      "metadata": {
        "trusted": true
      },
      "execution_count": 40,
      "outputs": [],
      "id": "301662e5-64c5-4169-bfaa-bc8274b4bdbb"
    },
    {
      "cell_type": "markdown",
      "source": "Implement wear_clothes, which takes a closet closet and a list of clothing items clothes_worn,\nand increments the number of times each item is worn by 1. If the clothing item specified does not already\nexist in the closet, add it to the closet.",
      "metadata": {},
      "id": "44ef0ea6-d598-4393-80ff-38f060f273c3"
    },
    {
      "cell_type": "code",
      "source": "def wear_clothes(closet, clothes_worn):\n    \"\"\" Updates the number of times each clothing item is worn.\n>>> adam_closet = make_closet(\"adam\", [\"polo\", \"tie\", \"shorts\"])\n>>> wear_clothes(adam_closet, [\"shorts\", \"tie\", \"shorts\"])\n>>> get_clothes(adam_closet)\n{'polo': 0, 'tie': 1, 'shorts': 2}\n>>> wear_clothes(adam_closet, [\"polo\", \"scarf\"])\n>>> get_clothes(adam_closet)\n{'polo': 1, 'tie': 1, 'shorts': 2, 'scarf': 1}\n\"\"\"\n    collect = get_clothes(closet)\n    worn = clothes_worn\n    for item in worn:\n        if item in collect.keys():\n            collect[item] += 1\n        else:\n            collect[item] = 1",
      "metadata": {
        "trusted": true
      },
      "execution_count": 42,
      "outputs": [],
      "id": "dc838818-268f-4120-a56c-682abd0ae2ee"
    },
    {
      "cell_type": "code",
      "source": "adam_closet = make_closet(\"adam\", [\"polo\", \"tie\", \"shorts\"])\nwear_clothes(adam_closet, [\"shorts\", \"tie\", \"shorts\"])\nget_clothes(adam_closet)",
      "metadata": {
        "trusted": true
      },
      "execution_count": 43,
      "outputs": [
        {
          "execution_count": 43,
          "output_type": "execute_result",
          "data": {
            "text/plain": "{'polo': 0, 'tie': 1, 'shorts': 2}"
          },
          "metadata": {}
        }
      ],
      "id": "5f05d868-798b-4b4a-b425-2afed0cf9bb9"
    },
    {
      "cell_type": "code",
      "source": "wear_clothes(adam_closet, [\"polo\", \"scarf\"])\nget_clothes(adam_closet)",
      "metadata": {
        "trusted": true
      },
      "execution_count": 44,
      "outputs": [
        {
          "ename": "<class 'KeyError'>",
          "evalue": "'scarf'",
          "traceback": [
            "\u001b[0;31m---------------------------------------------------------------------------\u001b[0m",
            "\u001b[0;31mKeyError\u001b[0m                                  Traceback (most recent call last)",
            "Cell \u001b[0;32mIn [44], line 1\u001b[0m\n\u001b[0;32m----> 1\u001b[0m \u001b[43mwear_clothes\u001b[49m\u001b[43m(\u001b[49m\u001b[43madam_closet\u001b[49m\u001b[43m,\u001b[49m\u001b[43m \u001b[49m\u001b[43m[\u001b[49m\u001b[38;5;124;43m\"\u001b[39;49m\u001b[38;5;124;43mpolo\u001b[39;49m\u001b[38;5;124;43m\"\u001b[39;49m\u001b[43m,\u001b[49m\u001b[43m \u001b[49m\u001b[38;5;124;43m\"\u001b[39;49m\u001b[38;5;124;43mscarf\u001b[39;49m\u001b[38;5;124;43m\"\u001b[39;49m\u001b[43m]\u001b[49m\u001b[43m)\u001b[49m\n\u001b[1;32m      2\u001b[0m get_clothes(adam_closet)\n",
            "Cell \u001b[0;32mIn [42], line 14\u001b[0m, in \u001b[0;36mwear_clothes\u001b[0;34m(closet, clothes_worn)\u001b[0m\n\u001b[1;32m     12\u001b[0m worn \u001b[38;5;241m=\u001b[39m clothes_worn\n\u001b[1;32m     13\u001b[0m \u001b[38;5;28;01mfor\u001b[39;00m item \u001b[38;5;129;01min\u001b[39;00m worn:\n\u001b[0;32m---> 14\u001b[0m     collect[item] \u001b[38;5;241m+\u001b[39m\u001b[38;5;241m=\u001b[39m \u001b[38;5;241m1\u001b[39m\n",
            "\u001b[0;31mKeyError\u001b[0m: 'scarf'"
          ],
          "output_type": "error"
        }
      ],
      "id": "67580ff0-85cb-414e-847d-6441970c9507"
    },
    {
      "cell_type": "code",
      "source": "def wear_clothes(closet, clothes_worn):\n    \"\"\" Updates the number of times each clothing item is worn.\n>>> adam_closet = make_closet(\"adam\", [\"polo\", \"tie\", \"shorts\"])\n>>> wear_clothes(adam_closet, [\"shorts\", \"tie\", \"shorts\"])\n>>> get_clothes(adam_closet)\n{'polo': 0, 'tie': 1, 'shorts': 2}\n>>> wear_clothes(adam_closet, [\"polo\", \"scarf\"])\n>>> get_clothes(adam_closet)\n{'polo': 1, 'tie': 1, 'shorts': 2, 'scarf': 1}\n\"\"\"\n    collect = get_clothes(closet)\n    worn = clothes_worn\n    for item in worn:\n        if item in collect.keys():\n            collect[item] += 1\n        else:\n            collect[item] = 1",
      "metadata": {
        "trusted": true
      },
      "execution_count": 45,
      "outputs": [],
      "id": "68bf5c53-2b68-4e6b-b2eb-c7488f7194dd"
    },
    {
      "cell_type": "code",
      "source": "wear_clothes(adam_closet, [\"polo\", \"scarf\"])\nget_clothes(adam_closet)",
      "metadata": {
        "trusted": true
      },
      "execution_count": 48,
      "outputs": [
        {
          "execution_count": 48,
          "output_type": "execute_result",
          "data": {
            "text/plain": "{'polo': 3, 'tie': 1, 'shorts': 2, 'scarf': 3}"
          },
          "metadata": {}
        }
      ],
      "id": "c62dee8d-f8c5-4b76-b208-550bb8ecf78a"
    },
    {
      "cell_type": "markdown",
      "source": "(b) (4.0 pt) Implement favorite_clothing_item, which takes in a closet closet and returns the name of\nthe most frequently worn clothing item. Assume there are no ties.",
      "metadata": {},
      "id": "ea409ac3-ebe5-41c2-8e75-547267b7dac3"
    },
    {
      "cell_type": "code",
      "source": "def favorite_clothing_item(closet):\n    \"\"\" Finds the most frequently worn clothing item in a closet\n>>> adam_closet = make_closet(\"adam\", [\"polo\", \"tie\", \"shorts\"])\n>>> wear_clothes(adam_closet, [\"shorts\", \"tie\", \"shorts\"])\n>>> favorite_clothing_item(adam_closet)\n'shorts'\n>>> wear_clothes(adam_closet, [\"tie\", \"polo\", \"polo\", \"scarf\", \"polo\"])\n>>> favorite_clothing_item(adam_closet)\n'polo'\n\"\"\"",
      "metadata": {
        "trusted": true
      },
      "execution_count": 49,
      "outputs": [],
      "id": "501c29fb-4b93-41bb-897c-f725849f5102"
    },
    {
      "cell_type": "code",
      "source": "import maths\ndef favorite_clothing_item(closet):\n    return max(get_clothes(closet), key = lambda k : get_clothes(closet)[k] for k in get_clothes(closet).keys())",
      "metadata": {
        "trusted": true
      },
      "execution_count": 58,
      "outputs": [
        {
          "ename": "<class 'SyntaxError'>",
          "evalue": "invalid syntax. Maybe you meant '==' or ':=' instead of '='? (<ipython-input-58-4476ddf82524>, line 3)",
          "traceback": [
            "\u001b[0;36m  Cell \u001b[0;32mIn [58], line 3\u001b[0;36m\u001b[0m\n\u001b[0;31m    return max(get_clothes(closet), key = lambda k : get_clothes(closet)[k] for k in get_clothes(closet).keys())\u001b[0m\n\u001b[0m                                    ^\u001b[0m\n\u001b[0;31mSyntaxError\u001b[0m\u001b[0;31m:\u001b[0m invalid syntax. Maybe you meant '==' or ':=' instead of '='?\n"
          ],
          "output_type": "error"
        }
      ],
      "id": "5028a958-2f9f-48c8-980a-4d29967ff80f"
    },
    {
      "cell_type": "markdown",
      "source": "(a) (6.0 pt) Implement the function add_to_digit which takes in two positive integers, n and x, and returns\na new number that is the result of adding x to each digit of n. If the sum of x and a digit of n is more\nthan 9, let the new digit be the rightmost digit of the sum.",
      "metadata": {},
      "id": "4c357710-82d0-43a9-979f-dd061cb343c0"
    },
    {
      "cell_type": "code",
      "source": "def add_to_digit(n, x):\n    \"\"\"\n>>> add_to_digit(9, 5) # 9 + 5 = 14\n4\n>>> add_to_digit(123, 5) # 1 + 5 = 6, 2 + 5 = 7, 3 + 5 = 8\n678\n>>> add_to_digit(238, 5) # 2 + 5 = 7, 3 + 5 = 8, 8 + 5 = 13\n783\n\"\"\"",
      "metadata": {
        "trusted": true
      },
      "execution_count": 50,
      "outputs": [],
      "id": "a9148e17-ea53-4f9c-9f0c-051db4875969"
    },
    {
      "cell_type": "code",
      "source": "def add_to_digit(n,x):\n    new_digit = list(n)\n    if len(new_digit) = 1:\n        return new_digit[0] + x\n    return  * 10 + add_to_digit(new_digit, x)",
      "metadata": {
        "trusted": true
      },
      "execution_count": 59,
      "outputs": [
        {
          "ename": "<class 'IndentationError'>",
          "evalue": "expected an indented block after function definition on line 1 (<ipython-input-59-8e46fbf75828>, line 1)",
          "traceback": [
            "\u001b[0;36m  Cell \u001b[0;32mIn [59], line 1\u001b[0;36m\u001b[0m\n\u001b[0;31m    def add_to_digit(n,x):\u001b[0m\n\u001b[0m                          ^\u001b[0m\n\u001b[0;31mIndentationError\u001b[0m\u001b[0;31m:\u001b[0m expected an indented block after function definition on line 1\n"
          ],
          "output_type": "error"
        }
      ],
      "id": "67e2e645-b461-4ddc-95de-2138c57baed1"
    },
    {
      "cell_type": "code",
      "source": "[[10,20]]+[30,40]",
      "metadata": {
        "trusted": true
      },
      "execution_count": 62,
      "outputs": [
        {
          "execution_count": 62,
          "output_type": "execute_result",
          "data": {
            "text/plain": "[[10, 20], 30, 40]"
          },
          "metadata": {}
        }
      ],
      "id": "92ec1694-3a1e-462a-ab49-bc56a3205777"
    },
    {
      "cell_type": "code",
      "source": "",
      "metadata": {},
      "execution_count": null,
      "outputs": [],
      "id": "2d4a64c8-c1a8-409a-817f-64fe5cdcc64d"
    }
  ]
}